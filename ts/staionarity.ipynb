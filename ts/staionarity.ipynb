{
 "cells": [
  {
   "cell_type": "markdown",
   "metadata": {},
   "source": [
    "## Stationarity \n",
    "\n",
    "A random walk $p_t$ satisfies:\n",
    "\n",
    "\\begin{align} \n",
    "p_t & = p_{t-1} + a_t \n",
    "\\end{align}\n",
    "\n",
    "where $a_t$ is white noise. The coefficient on $p_{t-1}$ is 1 so it is an AR(1) series and it is a non-stationary series.\n",
    "\n",
    "\n",
    "**Dickey-Fuller test**\n",
    "\n",
    "In general, if we have $ p_t = \\rho \\, p_{t-1} + a_t $, then we can write $\\Delta p_t = (\\rho-1) p_{t-1} + a_t $. Testing for a unit root is equivalent to finding $\\rho-1 = 0$, so Eq. (1) has a unit root since $\\rho=1$ and the model is not-stationary. On the other hand, if $\\rho =0$ then we have a simple white noise, and the series is stationary.\n",
    "\n",
    "\n"
   ]
  },
  {
   "cell_type": "markdown",
   "metadata": {},
   "source": []
  }
 ],
 "metadata": {
  "language_info": {
   "name": "python"
  }
 },
 "nbformat": 4,
 "nbformat_minor": 2
}
