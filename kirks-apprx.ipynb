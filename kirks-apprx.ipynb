{
 "cells": [
  {
   "cell_type": "markdown",
   "metadata": {},
   "source": [
    "## Kirk's Approximation for pricing Spread Options\n",
    "\n",
    "The payoff of a spread option on two futures contracts is given by\n",
    "$$ c_T =  {\\rm max}[0,F_1-F_2-K]  $$\n",
    "where $F_1$ and $F_2$ are the prices of the future contracts and $K$ is a constant spread.\n",
    "\n",
    "In Kirk's approximation we take $Z(T)=F_2(T)+K$ to have a lognormal distribution with initial value $Z(0) = F_2+Ke^{-rT}$.\\\n",
    "The volatility for $Z$ is value wieghted  using the relative proportions for the positions:\n",
    "$$ \\sigma_Z = \\frac{F_2}{F_2+Ke^{-rT}} \\sigma_2 $$\n",
    "\n",
    "\n",
    "Lets' take the generalized Black-Scholes equation with\n",
    "$$ S= F_1 \\hspace{1cm} {\\rm Strike} = F_2+K$$\n",
    "\n",
    "from which we obtain the value of the call\n",
    "$$ c= (F_2+K) e^{-rt}[F \\, N(d_1) - N(d_2)]$$\n",
    "where \n",
    "$$ d_1 = \\frac{\\ln F + \\sigma^2T/2 }{\\sigma \\sqrt{T}}  \\hspace{1cm} d_2 = d_1 - \\sigma \\sqrt{T}$$\n",
    "and \n",
    "$$F=\\frac{F_1}{F_2+K}$$ \n",
    "The volatility of $F$ can be approximated as \n",
    "$$ \\sigma = \\sqrt{\\sigma_1^2+ \\left(\\frac{\\sigma_2 F_2}{F_2+K}\\right)^2- \\frac{2 \\, \\rho \\, \\sigma_1 \\sigma_2 F_2}{F_2+K}} $$\n",
    "where $\\rho$ is the correlation between the two futures contracts. Kirk's approoximation works for small $K$.\n",
    "\n"
   ]
  },
  {
   "cell_type": "code",
   "execution_count": 2,
   "metadata": {},
   "outputs": [],
   "source": [
    "# ========================== Black-Scholes and Greeks ===========================\n",
    "# Author: Alexis D. Plascencia\n",
    "# We implement the Greeks for Spread Options using Kirk's approximation\n",
    "# ===============================================================================\n",
    "\n",
    "import numpy as np\n",
    "import matplotlib.pylab as plt\n",
    "import scipy.stats as ss\n",
    "import pandas as pd\n",
    "import seaborn as sns\n",
    "\n",
    "from matplotlib.backends.backend_pdf import PdfPages\n",
    "from matplotlib import pyplot\n",
    "\n",
    "from matplotlib import rc\n",
    "rc('font',**{'family':'sans-serif','sans-serif':['Helvetica']})\n",
    "rc('text', usetex=True)"
   ]
  },
  {
   "cell_type": "markdown",
   "metadata": {},
   "source": [
    "## Delta\n",
    "\n",
    "We can have either Delta with respect to $F_1$:\n",
    "$$ \\Delta_1 = \\frac{\\partial c}{\\partial F_1} = e^{-rT} N(d_1) $$\n",
    "or with respect to $F_2$:\n",
    "$$ \\Delta_2 = \\frac{\\partial c}{\\partial F_2} = e^{-rT} \\left[ -N(d_2) +(F_2+K) e^{-d_2^2/2} \\sqrt{T}  \\frac{\\partial \\sigma}{\\partial F_2} \\right]$$\n",
    "and we have that \n",
    "$$  \\frac{\\partial \\sigma}{\\partial F_2} = \\frac{ \\sigma_2 K (\\beta - \\rho \\sigma_1)  }{ \\sigma (F_2+K)^2 } $$\n",
    "where\n",
    "$$ \\beta =\\frac{\\sigma_2 F_2}{F_2+K} $$"
   ]
  },
  {
   "cell_type": "code",
   "execution_count": 23,
   "metadata": {},
   "outputs": [
    {
     "name": "stderr",
     "output_type": "stream",
     "text": [
      "/tmp/ipykernel_73383/2789881859.py:17: RuntimeWarning: divide by zero encountered in log\n",
      "  d1 = (np.log(F) + (0.5*sigma**2.)*(T-time))/(sigma*np.sqrt(T-time) + eps)\n"
     ]
    }
   ],
   "source": [
    "F1 = np.linspace(0,240,240)\n",
    "r = 0.1\n",
    "T = 2.\n",
    "K = 20.\n",
    "time = 0.\n",
    "eps = 1.e-8  # This is to avoid divergences\n",
    "#F1 = 400.\n",
    "F2 = 100.\n",
    "F = F1/(F2+K)\n",
    "sigma1=0.1\n",
    "sigma2=0.1\n",
    "beta = sigma2*F2/(F2+K)\n",
    "rho = 0. \n",
    "sigma = np.sqrt(sigma1**2.+beta**2.-2*rho*sigma1*beta)\n",
    "\n",
    "# We use the analytic solution for the Call and Put pricing\n",
    "d1 = (np.log(F) + (0.5*sigma**2.)*(T-time))/(sigma*np.sqrt(T-time) + eps)\n",
    "d2 = d1 - sigma*np.sqrt(T-time)\n",
    "\n",
    "Delta1 = np.exp(-r*T)*ss.norm.cdf(d1)\n",
    "Delta2 = np.exp(-r*T)*-ss.norm.cdf(d2)+(F2+K)*np.exp(-d2**2./2.)*np.sqrt(T)*sigma2*K*(beta-rho*sigma1)/(sigma1*(F2+K)**2.)"
   ]
  },
  {
   "cell_type": "code",
   "execution_count": 24,
   "metadata": {},
   "outputs": [
    {
     "data": {
      "image/png": "[encoded data removed]",
      "text/plain": [
       "<Figure size 500x330 with 1 Axes>"
      ]
     },
     "metadata": {},
     "output_type": "display_data"
    }
   ],
   "source": [
    "fig = plt.figure(figsize=(5,3.3)) \n",
    "ax = fig.gca()\n",
    "ax.tick_params(axis='both', which='major', labelsize=14)\n",
    "#ax.tick_params(axis='both', which='both', direction='in')\n",
    "ax.set_xlabel(r'$F_1$', fontsize=21)\n",
    "ax.set_ylabel(r'$\\Delta_1$', fontsize=21)\n",
    "ax.axhline(0, xmin=0, xmax=1, color='red',  linewidth=1.5, ls='dashed')\n",
    "ax.axvline(120, ymin=0, ymax=1, color='tab:orange',  linewidth=1.5, ls='dashed')\n",
    "#ax.set_xlim(0, 200) \n",
    "#ax.set_ylim(-0.5, 1) \n",
    "\n",
    "plt.plot(F1,Delta1,color='tab:blue', linewidth=2)\n",
    "#plt.plot(S,gamma,color='tab:blue', linewidth=2)\n",
    "#ax.set_title(r'${\\rm Integration\\,\\, region}$', fontsize=20, color='black')   \n",
    "ax.grid(linewidth=0.5)"
   ]
  },
  {
   "cell_type": "code",
   "execution_count": 17,
   "metadata": {},
   "outputs": [],
   "source": [
    "F2 = np.linspace(0,240,240)\n",
    "r = 0.1\n",
    "T = 2.\n",
    "K = 20.\n",
    "time = 0.\n",
    "eps = 1.e-8  # This is to avoid divergences\n",
    "#F1 = 400.\n",
    "F1 = 100.\n",
    "F = F1/(F2+K)\n",
    "sigma1=0.1\n",
    "sigma2=0.1\n",
    "beta = sigma2*F2/(F2+K)\n",
    "rho = 0. \n",
    "sigma = np.sqrt(sigma1**2.+beta**2.-2*rho*sigma1*beta)\n",
    "\n",
    "# We use the analytic solution for the Call and Put pricing\n",
    "d1 = (np.log(F) + (0.5*sigma**2.)*(T-time))/(sigma*np.sqrt(T-time) + eps)\n",
    "d2 = d1 - sigma*np.sqrt(T-time)\n",
    "\n",
    "Delta1 = np.exp(-r*T)*ss.norm.cdf(d1)\n",
    "Delta2 = np.exp(-r*T)*-ss.norm.cdf(d2)+(F2+K)*np.exp(-d2**2./2.)*np.sqrt(T)*sigma2*K*(beta-rho*sigma1)/(sigma1*(F2+K)*2.)"
   ]
  },
  {
   "cell_type": "code",
   "execution_count": 22,
   "metadata": {},
   "outputs": [
    {
     "data": {
      "image/png": "[encoded data removed]",
      "text/plain": [
       "<Figure size 500x330 with 1 Axes>"
      ]
     },
     "metadata": {},
     "output_type": "display_data"
    }
   ],
   "source": [
    "fig = plt.figure(figsize=(5,3.3))  #7,5\n",
    "ax = fig.gca()\n",
    "ax.tick_params(axis='both', which='major', labelsize=14)\n",
    "#ax.tick_params(axis='both', which='both', direction='in')\n",
    "ax.set_xlabel(r'$F_2$', fontsize=21)\n",
    "ax.set_ylabel(r'$\\Delta_2$', fontsize=21)\n",
    "ax.axhline(0, xmin=0, xmax=1, color='red',  linewidth=1.5, ls='dashed')\n",
    "ax.axvline(120, ymin=0, ymax=1, color='tab:orange',  linewidth=1.5, ls='dashed')\n",
    "#ax.set_xlim(0, 200) \n",
    "#ax.set_ylim(-0.5, 1) \n",
    "\n",
    "plt.plot(F2,Delta2,color='tab:blue', linewidth=2)\n",
    "#plt.plot(S,gamma,color='tab:blue', linewidth=2)\n",
    "#ax.set_title(r'${\\rm Integration\\,\\, region}$', fontsize=20, color='black')   \n",
    "ax.grid(linewidth=0.5)"
   ]
  },
  {
   "cell_type": "code",
   "execution_count": null,
   "metadata": {},
   "outputs": [],
   "source": []
  }
 ],
 "metadata": {
  "kernelspec": {
   "display_name": "Python 3",
   "language": "python",
   "name": "python3"
  },
  "language_info": {
   "codemirror_mode": {
    "name": "ipython",
    "version": 3
   },
   "file_extension": ".py",
   "mimetype": "text/x-python",
   "name": "python",
   "nbconvert_exporter": "python",
   "pygments_lexer": "ipython3",
   "version": "3.10.12"
  }
 },
 "nbformat": 4,
 "nbformat_minor": 2
}
